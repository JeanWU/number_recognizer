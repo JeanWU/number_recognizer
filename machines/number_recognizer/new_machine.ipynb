{
 "cells": [
  {
   "cell_type": "code",
   "execution_count": 22,
   "metadata": {
    "collapsed": true
   },
   "outputs": [],
   "source": [
    "%matplotlib inline\n",
    "import numpy as np\n",
    "mydata = np.loadtxt(\"C:/git_number/number_recognizer/data_text.txt\")\n",
    "mytarget = np.loadtxt(\"C:/git_number/number_recognizer/new_number.txt\")"
   ]
  },
  {
   "cell_type": "code",
   "execution_count": 23,
   "metadata": {
    "collapsed": false
   },
   "outputs": [
    {
     "data": {
      "text/plain": [
       "(864, 64)"
      ]
     },
     "execution_count": 23,
     "metadata": {},
     "output_type": "execute_result"
    }
   ],
   "source": [
    "mydata.shape"
   ]
  },
  {
   "cell_type": "code",
   "execution_count": 24,
   "metadata": {
    "collapsed": false
   },
   "outputs": [
    {
     "data": {
      "text/plain": [
       "(864,)"
      ]
     },
     "execution_count": 24,
     "metadata": {},
     "output_type": "execute_result"
    }
   ],
   "source": [
    "mytarget.shape"
   ]
  },
  {
   "cell_type": "code",
   "execution_count": 30,
   "metadata": {
    "collapsed": false
   },
   "outputs": [
    {
     "name": "stdout",
     "output_type": "stream",
     "text": [
      "Classification report for classifier SVC(C=1.0, cache_size=200, class_weight=None, coef0=0.0, degree=3,\n",
      "  gamma=0.0023, kernel='rbf', max_iter=-1, probability=False,\n",
      "  random_state=None, shrinking=True, tol=0.001, verbose=False):\n",
      "             precision    recall  f1-score   support\n",
      "\n",
      "        0.0       0.56      0.39      0.46        49\n",
      "        1.0       0.62      0.86      0.72        28\n",
      "        2.0       0.37      0.62      0.46        48\n",
      "        3.0       0.29      0.42      0.34        50\n",
      "        4.0       0.55      0.40      0.46        43\n",
      "        5.0       0.33      0.15      0.20        41\n",
      "        6.0       0.40      0.54      0.46        39\n",
      "        7.0       0.50      0.33      0.39        43\n",
      "        8.0       0.65      0.40      0.49        50\n",
      "        9.0       0.36      0.39      0.38        41\n",
      "\n",
      "avg / total       0.46      0.44      0.43       432\n",
      "\n",
      "\n",
      "Confusion matrix:\n",
      "[[19  0 11  7  1  1  4  3  3  0]\n",
      " [ 0 24  0  1  0  1  1  0  0  1]\n",
      " [ 1  2 30  9  0  1  3  1  0  1]\n",
      " [ 2  1 14 21  1  2  2  0  2  5]\n",
      " [ 3  1  4  2 17  1  7  3  1  4]\n",
      " [ 1  0  9 11  2  6  4  1  4  3]\n",
      " [ 1  6  1  5  1  2 21  0  1  1]\n",
      " [ 4  3  4  3  1  1  3 14  0 10]\n",
      " [ 2  0  7  8  3  1  6  0 20  3]\n",
      " [ 1  2  2  5  5  2  2  6  0 16]]\n"
     ]
    },
    {
     "data": {
      "image/png": "[encoded data removed]",
      "text/plain": [
       "<matplotlib.figure.Figure at 0xd456050>"
      ]
     },
     "metadata": {},
     "output_type": "display_data"
    }
   ],
   "source": [
    "import matplotlib.pyplot as plt\n",
    "from sklearn import datasets, svm, metrics\n",
    "\n",
    "\n",
    "#digits = datasets.load_digits()\n",
    "#images_and_labels = list(zip(digits.images, digits.target))\n",
    "images_and_labels = list(zip(mydata, mytarget))\n",
    "\n",
    "for index, (image, label) in enumerate(images_and_labels[:4]):\n",
    "    plt.subplot(2, 4, index + 1)\n",
    "    image=np.reshape(image,(8,8))\n",
    "    \n",
    "    plt.axis('off')\n",
    "    plt.imshow(image, cmap=plt.cm.gray_r, interpolation='nearest')\n",
    "    plt.title('Training: %i' % label)\n",
    "\n",
    "# To apply a classifier on this data, we need to flatten the image, to\n",
    "# turn the data in a (samples, feature) matrix:\n",
    "n_samples = len(mydata)\n",
    "#n_samples = len(digits.images)\n",
    "\n",
    "data = mydata.reshape((n_samples, -1))\n",
    "\n",
    "# Create a classifier: a support vector classifier\n",
    "classifier = svm.SVC(gamma=0.0023)\n",
    "\n",
    "# We learn the digits on the first half of the digits\n",
    "classifier.fit(data[:n_samples / 2], mytarget[:n_samples / 2])\n",
    "#classifier.fit(data[:n_samples / 2], digits.target[:n_samples / 2])\n",
    "\n",
    "# Now predict the value of the digit on the second half:\n",
    "expected = mytarget[n_samples / 2:]\n",
    "#expected = digits.target[n_samples / 2:]\n",
    "predicted = classifier.predict(data[n_samples / 2:])\n",
    "\n",
    "print(\"Classification report for classifier %s:\\n%s\\n\"\n",
    "    % (classifier, metrics.classification_report(expected, predicted)))\n",
    "print(\"Confusion matrix:\\n%s\"\n",
    "    % metrics.confusion_matrix(expected, predicted))\n",
    "\n",
    "images_and_predictions = list(\n",
    "                        zip(mydata[n_samples / 2:], predicted))\n",
    "'''\n",
    "images_and_predictions = list(\n",
    "                        zip(digits.images[n_samples / 2:], predicted))\n",
    "                        '''\n",
    "for index, (image, prediction) in enumerate(images_and_predictions[:4]):\n",
    "    plt.subplot(2, 4, index + 5)\n",
    "    image=np.reshape(image,(8,8))\n",
    "    plt.axis('off')\n",
    "    plt.imshow(image, cmap=plt.cm.gray_r, interpolation='nearest')\n",
    "    plt.title('Prediction: %i' % prediction)\n",
    "\n",
    "plt.show()"
   ]
  },
  {
   "cell_type": "code",
   "execution_count": 31,
   "metadata": {
    "collapsed": false
   },
   "outputs": [
    {
     "data": {
      "text/plain": [
       "['./machine_new.pkl',\n",
       " './machine_new.pkl_01.npy',\n",
       " './machine_new.pkl_02.npy',\n",
       " './machine_new.pkl_03.npy',\n",
       " './machine_new.pkl_04.npy',\n",
       " './machine_new.pkl_05.npy',\n",
       " './machine_new.pkl_06.npy',\n",
       " './machine_new.pkl_07.npy',\n",
       " './machine_new.pkl_08.npy',\n",
       " './machine_new.pkl_09.npy',\n",
       " './machine_new.pkl_10.npy',\n",
       " './machine_new.pkl_11.npy']"
      ]
     },
     "execution_count": 31,
     "metadata": {},
     "output_type": "execute_result"
    }
   ],
   "source": [
    "from sklearn.externals import joblib\n",
    "\n",
    "joblib.dump(classifier, \"./machine_new.pkl\") "
   ]
  },
  {
   "cell_type": "code",
   "execution_count": null,
   "metadata": {
    "collapsed": true
   },
   "outputs": [],
   "source": []
  }
 ],
 "metadata": {
  "kernelspec": {
   "display_name": "Python 3",
   "language": "python",
   "name": "python3"
  },
  "language_info": {
   "codemirror_mode": {
    "name": "ipython",
    "version": 3
   },
   "file_extension": ".py",
   "mimetype": "text/x-python",
   "name": "python",
   "nbconvert_exporter": "python",
   "pygments_lexer": "ipython3",
   "version": "3.4.3"
  }
 },
 "nbformat": 4,
 "nbformat_minor": 0
}
