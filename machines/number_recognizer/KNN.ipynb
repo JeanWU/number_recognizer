{
 "cells": [
  {
   "cell_type": "code",
   "execution_count": 53,
   "metadata": {
    "collapsed": true
   },
   "outputs": [],
   "source": [
    "%matplotlib inline\n",
    "import numpy as np\n",
    "import matplotlib.pyplot as plt\n",
    "mydata = np.loadtxt(\"C:/git_number/number_recognizer/data_text.txt\")\n",
    "mytarget = np.loadtxt(\"C:/git_number/number_recognizer/new_number.txt\")\n",
    "mydata15 = np.loadtxt(\"C:/git_number/number_recognizer/data_text15.txt\")\n",
    "mytarget15 = np.loadtxt(\"C:/git_number/number_recognizer/new_number15.txt\")"
   ]
  },
  {
   "cell_type": "code",
   "execution_count": 54,
   "metadata": {
    "collapsed": false
   },
   "outputs": [
    {
     "data": {
      "text/plain": [
       "'def make_model():\\n    from sklearn.neighbors import KNeighborsClassifier   \\n    clf = KNeighborsClassifier(n_neighbors=1)\\n    return clf\\n\\nclassifier = make_model()'"
      ]
     },
     "execution_count": 54,
     "metadata": {},
     "output_type": "execute_result"
    }
   ],
   "source": [
    "'''def make_model():\n",
    "    from sklearn.neighbors import KNeighborsClassifier   \n",
    "    clf = KNeighborsClassifier(n_neighbors=1)\n",
    "    return clf\n",
    "\n",
    "classifier = make_model()'''"
   ]
  },
  {
   "cell_type": "code",
   "execution_count": 55,
   "metadata": {
    "collapsed": true
   },
   "outputs": [],
   "source": [
    "#classifier.fit(mydata, mytarget)"
   ]
  },
  {
   "cell_type": "code",
   "execution_count": 73,
   "metadata": {
    "collapsed": false,
    "scrolled": false
   },
   "outputs": [
    {
     "name": "stdout",
     "output_type": "stream",
     "text": [
      "gamma: 0.000900,precision: 0.722037067792\n",
      "\n"
     ]
    },
    {
     "data": {
      "text/plain": [
       "SVC(C=1.0, cache_size=200, class_weight=None, coef0=0.0, degree=3,\n",
       "  gamma=0.0099, kernel='rbf', max_iter=-1, probability=False,\n",
       "  random_state=None, shrinking=True, tol=0.001, verbose=False)"
      ]
     },
     "execution_count": 73,
     "metadata": {},
     "output_type": "execute_result"
    },
    {
     "data": {
      "image/png": "[encoded data removed]",
      "text/plain": [
       "<matplotlib.figure.Figure at 0xa0e6210>"
      ]
     },
     "metadata": {},
     "output_type": "display_data"
    }
   ],
   "source": [
    "from sklearn import cross_validation\n",
    "from sklearn import datasets, svm, metrics\n",
    "from sklearn.neighbors import KNeighborsClassifier\n",
    "from sklearn.cross_validation import StratifiedKFold\n",
    "from sklearn.cross_validation import cross_val_score\n",
    "from sklearn.ensemble import RandomForestClassifier, AdaBoostClassifier, ExtraTreesClassifier,GradientBoostingClassifier\n",
    "\n",
    "\n",
    "#digits = datasets.load_digits()\n",
    "#images_and_labels = list(zip(digits.images, digits.target))\n",
    "images_and_labels = list(zip(mydata, mytarget))\n",
    "\n",
    "for index, (image, label) in enumerate(images_and_labels[:4]):\n",
    "    plt.subplot(2, 4, index + 1)\n",
    "    image=np.reshape(image,(8,8))\n",
    "    \n",
    "    plt.axis('off')\n",
    "    plt.imshow(image, cmap=plt.cm.gray_r, interpolation='nearest')\n",
    "    plt.title('Training: %i' % label)\n",
    "\n",
    "# To apply a classifier on this data, we need to flatten the image, to\n",
    "# turn the data in a (samples, feature) matrix:\n",
    "n_samples = len(mydata15)\n",
    "#n_samples = len(digits.images)\n",
    "\n",
    "data = mydata15.reshape((n_samples, -1))\n",
    "\n",
    "# Create a classifier: a support vector classifier\n",
    "pre=[]\n",
    "for g in range(100):\n",
    "    cl = svm.SVC(gamma= g / 10000. )\n",
    "    #cl= KNeighborsClassifier(n_neighbors=1)\n",
    "    #cl = RandomForestClassifier(n_estimators=10)\n",
    "    #cl = ExtraTreesClassifier(n_estimators=10)\n",
    "    #cl = AdaBoostClassifier(n_estimators=100)\n",
    "    #cl = GradientBoostingClassifier(n_estimators=100)\n",
    "    x=mydata15\n",
    "    y=mytarget15\n",
    "    classifier=np.mean(cross_val_score(cl,x,y,cv=StratifiedKFold(y,5)))\n",
    "    pre.append(classifier)\n",
    "    #print(\"gamma: %f,precision: %s\\n\" % (g / 10000.,classifier))\n",
    "\n",
    "print(\"gamma: %f,precision: %s\\n\" % (np.argmax(np.array(pre))/ 10000.,np.max(np.array(pre))))\n",
    "\n",
    "cl.fit(mydata15,mytarget15)\n"
   ]
  },
  {
   "cell_type": "code",
   "execution_count": 72,
   "metadata": {
    "collapsed": false
   },
   "outputs": [
    {
     "data": {
      "text/plain": [
       "9"
      ]
     },
     "execution_count": 72,
     "metadata": {},
     "output_type": "execute_result"
    }
   ],
   "source": [
    "np.argmax(np.array(pre))"
   ]
  },
  {
   "cell_type": "code",
   "execution_count": 68,
   "metadata": {
    "collapsed": false
   },
   "outputs": [
    {
     "data": {
      "text/plain": [
       "['./machine_0323.pkl',\n",
       " './machine_0323.pkl_01.npy',\n",
       " './machine_0323.pkl_02.npy',\n",
       " './machine_0323.pkl_03.npy',\n",
       " './machine_0323.pkl_04.npy',\n",
       " './machine_0323.pkl_05.npy',\n",
       " './machine_0323.pkl_06.npy',\n",
       " './machine_0323.pkl_07.npy',\n",
       " './machine_0323.pkl_08.npy',\n",
       " './machine_0323.pkl_09.npy',\n",
       " './machine_0323.pkl_10.npy',\n",
       " './machine_0323.pkl_11.npy']"
      ]
     },
     "execution_count": 68,
     "metadata": {},
     "output_type": "execute_result"
    }
   ],
   "source": [
    "from sklearn.externals import joblib\n",
    "\n",
    "joblib.dump(cl, \"./machine_0323.pkl\")"
   ]
  },
  {
   "cell_type": "code",
   "execution_count": null,
   "metadata": {
    "collapsed": true
   },
   "outputs": [],
   "source": []
  }
 ],
 "metadata": {
  "kernelspec": {
   "display_name": "Python 3",
   "language": "python",
   "name": "python3"
  },
  "language_info": {
   "codemirror_mode": {
    "name": "ipython",
    "version": 3
   },
   "file_extension": ".py",
   "mimetype": "text/x-python",
   "name": "python",
   "nbconvert_exporter": "python",
   "pygments_lexer": "ipython3",
   "version": "3.4.3"
  }
 },
 "nbformat": 4,
 "nbformat_minor": 0
}
