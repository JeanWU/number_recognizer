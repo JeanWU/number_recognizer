{
 "cells": [
  {
   "cell_type": "code",
   "execution_count": 14,
   "metadata": {
    "collapsed": true
   },
   "outputs": [],
   "source": [
    "%matplotlib inline\n",
    "import numpy as np\n",
    "import matplotlib.pyplot as plt\n",
    "mydata = np.loadtxt(\"C:/git_number/number_recognizer/data_text.txt\")\n",
    "mytarget = np.loadtxt(\"C:/git_number/number_recognizer/new_number.txt\")\n",
    "mydata15 = np.loadtxt(\"C:/git_number/number_recognizer/data_text15.txt\")\n",
    "mytarget15 = np.loadtxt(\"C:/git_number/number_recognizer/new_number15.txt\")"
   ]
  },
  {
   "cell_type": "code",
   "execution_count": 15,
   "metadata": {
    "collapsed": false
   },
   "outputs": [
    {
     "data": {
      "text/plain": [
       "'def make_model():\\n    from sklearn.neighbors import KNeighborsClassifier   \\n    clf = KNeighborsClassifier(n_neighbors=1)\\n    return clf\\n\\nclassifier = make_model()'"
      ]
     },
     "execution_count": 15,
     "metadata": {},
     "output_type": "execute_result"
    }
   ],
   "source": [
    "'''def make_model():\n",
    "    from sklearn.neighbors import KNeighborsClassifier   \n",
    "    clf = KNeighborsClassifier(n_neighbors=1)\n",
    "    return clf\n",
    "\n",
    "classifier = make_model()'''"
   ]
  },
  {
   "cell_type": "code",
   "execution_count": 16,
   "metadata": {
    "collapsed": true
   },
   "outputs": [],
   "source": [
    "#classifier.fit(mydata, mytarget)"
   ]
  },
  {
   "cell_type": "code",
   "execution_count": 21,
   "metadata": {
    "collapsed": false,
    "scrolled": false
   },
   "outputs": [
    {
     "name": "stdout",
     "output_type": "stream",
     "text": [
      "gamma: 0.000800,precision: 0.733503719613\n",
      "\n",
      "[0, 1, 2, 3, 4, 5, 6, 7, 8, 9, 10, 11, 12, 13, 14, 15, 16, 17, 18, 19, 20, 21, 22, 23, 24, 25, 26, 27, 28, 29, 30, 31, 32, 33, 34, 35, 36, 37, 38, 39, 40, 41, 42, 43, 44, 45, 46, 47, 48, 49, 50, 51, 52, 53, 54, 55, 56, 57, 58, 59, 60, 61, 62, 63, 64, 65, 66, 67, 68, 69, 70, 71, 72, 73, 74, 75, 76, 77, 78, 79, 80, 81, 82, 83, 84, 85, 86, 87, 88, 89, 90, 91, 92, 93, 94, 95, 96, 97, 98, 99]\n",
      "[0.15786256991003603, 0.62057593667349698, 0.6670038260112986, 0.67528240722957322, 0.70023017751131955, 0.71333067183348475, 0.72164537448927712, 0.72286510862446907, 0.73350371961332794, 0.73343315134366649, 0.72988801936551639, 0.72277756283429573, 0.72632196183433551, 0.7239547664006416, 0.72743374895528068, 0.71909840646460721, 0.71796446644521827, 0.71439176757988476, 0.70849442740337454, 0.70145451558814464, 0.69547209072027072, 0.68738918482571609, 0.67318276463130622, 0.65897147833078473, 0.63649439911299122, 0.6164874930381774, 0.59041857103804474, 0.57516203820854161, 0.55856242227214237, 0.5408819091828756, 0.52426162985792424, 0.50535819754071165, 0.4900527549726883, 0.46763196621366215, 0.44862058688220285, 0.42981277510769972, 0.4119778663644757, 0.40615007576136702, 0.39901257667192042, 0.38604704836855719, 0.37900813169591635, 0.37427274568593927, 0.37077649989263867, 0.3672251973939677, 0.36011474086274714, 0.35182880888588031, 0.34108986380584561, 0.33285922714515692, 0.32935021660452451, 0.32576990481612028, 0.31989858850157615, 0.31402926247221008, 0.30815305649788366, 0.30341866563049569, 0.29865599845148466, 0.29160920669129436, 0.29034103363121377, 0.28914342884079464, 0.28207550287842043, 0.2773622462132162, 0.2715479768892205, 0.26806624751762198, 0.26568453566222588, 0.26333159448575533, 0.25982185096701238, 0.25982185096701238, 0.25507958501207495, 0.25158433436136335, 0.25038672957094421, 0.24806106956350749, 0.2398872177288886, 0.23871074714065332, 0.23632142236218642, 0.2351653529980246, 0.23164208820016877, 0.23164208820016877, 0.23048601883600689, 0.22462921894316484, 0.21996437764917842, 0.21759030227052395, 0.2164207116272491, 0.21403211982689258, 0.2128556492386573, 0.21050958800714717, 0.21050958800714717, 0.2081278761517511, 0.2081278761517511, 0.2081278761517511, 0.2081278761517511, 0.20695140556351582, 0.2046257455560791, 0.20228656426952943, 0.20228656426952943, 0.20228656426952943, 0.20111697362625452, 0.20111697362625452, 0.19878443367385737, 0.19643837244234721, 0.19526878179907237, 0.19407117700865323]\n"
     ]
    },
    {
     "data": {
      "image/png": "[encoded data removed]",
      "text/plain": [
       "<matplotlib.figure.Figure at 0x8bc5860>"
      ]
     },
     "metadata": {},
     "output_type": "display_data"
    },
    {
     "data": {
      "image/png": "[encoded data removed]",
      "text/plain": [
       "<matplotlib.figure.Figure at 0x9009160>"
      ]
     },
     "metadata": {},
     "output_type": "display_data"
    },
    {
     "data": {
      "text/plain": [
       "SVC(C=1.0, cache_size=200, class_weight=None, coef0=0.0, degree=3,\n",
       "  gamma=0.0099, kernel='rbf', max_iter=-1, probability=False,\n",
       "  random_state=None, shrinking=True, tol=0.001, verbose=False)"
      ]
     },
     "execution_count": 21,
     "metadata": {},
     "output_type": "execute_result"
    }
   ],
   "source": [
    "from sklearn import cross_validation\n",
    "from sklearn import datasets, svm, metrics\n",
    "from sklearn.neighbors import KNeighborsClassifier\n",
    "from sklearn.cross_validation import StratifiedKFold\n",
    "from sklearn.cross_validation import cross_val_score\n",
    "from sklearn.ensemble import RandomForestClassifier, AdaBoostClassifier, ExtraTreesClassifier,GradientBoostingClassifier\n",
    "\n",
    "\n",
    "#digits = datasets.load_digits()\n",
    "#images_and_labels = list(zip(digits.images, digits.target))\n",
    "images_and_labels = list(zip(mydata15, mytarget15))\n",
    "\n",
    "for index, (image, label) in enumerate(images_and_labels[:4]):\n",
    "    plt.subplot(2, 4, index + 1)\n",
    "    image=np.reshape(image,(8,8))\n",
    "    \n",
    "    plt.axis('off')\n",
    "    plt.imshow(image, cmap=plt.cm.gray_r, interpolation='nearest')\n",
    "    plt.title('Training: %i' % label)\n",
    "\n",
    "# To apply a classifier on this data, we need to flatten the image, to\n",
    "# turn the data in a (samples, feature) matrix:\n",
    "n_samples = len(mydata15)\n",
    "#n_samples = len(digits.images)\n",
    "\n",
    "data = mydata15.reshape((n_samples, -1))\n",
    "\n",
    "# Create a classifier: a support vector classifier\n",
    "pre=[]\n",
    "glist=[]\n",
    "for g in range(100):\n",
    "    cl = svm.SVC(gamma= g / 10000. )\n",
    "    #cl= KNeighborsClassifier(n_neighbors=1)\n",
    "    #cl = RandomForestClassifier(n_estimators=10)\n",
    "    #cl = ExtraTreesClassifier(n_estimators=10)\n",
    "    #cl = AdaBoostClassifier(n_estimators=100)\n",
    "    #cl = GradientBoostingClassifier(n_estimators=100)\n",
    "    x=mydata15\n",
    "    y=mytarget15\n",
    "    precision=np.mean(cross_val_score(cl,x,y,cv=StratifiedKFold(y,5)))\n",
    "    pre.append(precision)\n",
    "    glist.append(g)\n",
    "    #print(\"gamma: %f,precision: %s\\n\" % (g / 10000.,classifier))\n",
    "    \n",
    "\n",
    "print(\"gamma: %f,precision: %s\\n\" % (np.argmax(np.array(pre))/ 10000.,np.max(np.array(pre))))\n",
    "x1=glist\n",
    "y1=pre\n",
    "print(x1)\n",
    "print(y1)\n",
    "plt.figure()\n",
    "plt.plot(x1,y1)\n",
    "plt.show()\n",
    "\n",
    "cl.fit(mydata15,mytarget15)\n"
   ]
  },
  {
   "cell_type": "code",
   "execution_count": 18,
   "metadata": {
    "collapsed": false
   },
   "outputs": [
    {
     "data": {
      "text/plain": [
       "8"
      ]
     },
     "execution_count": 18,
     "metadata": {},
     "output_type": "execute_result"
    }
   ],
   "source": [
    "np.argmax(np.array(pre))"
   ]
  },
  {
   "cell_type": "code",
   "execution_count": 19,
   "metadata": {
    "collapsed": false
   },
   "outputs": [
    {
     "data": {
      "text/plain": [
       "['./machine_0323.pkl',\n",
       " './machine_0323.pkl_01.npy',\n",
       " './machine_0323.pkl_02.npy',\n",
       " './machine_0323.pkl_03.npy',\n",
       " './machine_0323.pkl_04.npy',\n",
       " './machine_0323.pkl_05.npy',\n",
       " './machine_0323.pkl_06.npy',\n",
       " './machine_0323.pkl_07.npy',\n",
       " './machine_0323.pkl_08.npy',\n",
       " './machine_0323.pkl_09.npy',\n",
       " './machine_0323.pkl_10.npy',\n",
       " './machine_0323.pkl_11.npy']"
      ]
     },
     "execution_count": 19,
     "metadata": {},
     "output_type": "execute_result"
    }
   ],
   "source": [
    "from sklearn.externals import joblib\n",
    "\n",
    "joblib.dump(cl, \"./machine_0323.pkl\")"
   ]
  },
  {
   "cell_type": "code",
   "execution_count": null,
   "metadata": {
    "collapsed": true
   },
   "outputs": [],
   "source": []
  }
 ],
 "metadata": {
  "kernelspec": {
   "display_name": "Python 3",
   "language": "python",
   "name": "python3"
  },
  "language_info": {
   "codemirror_mode": {
    "name": "ipython",
    "version": 3
   },
   "file_extension": ".py",
   "mimetype": "text/x-python",
   "name": "python",
   "nbconvert_exporter": "python",
   "pygments_lexer": "ipython3",
   "version": "3.4.3"
  }
 },
 "nbformat": 4,
 "nbformat_minor": 0
}
